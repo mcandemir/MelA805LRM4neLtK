{
  "nbformat": 4,
  "nbformat_minor": 0,
  "metadata": {
    "kernelspec": {
      "display_name": "Python 3",
      "language": "python",
      "name": "python3"
    },
    "language_info": {
      "codemirror_mode": {
        "name": "ipython",
        "version": 3
      },
      "file_extension": ".py",
      "mimetype": "text/x-python",
      "name": "python",
      "nbconvert_exporter": "python",
      "pygments_lexer": "ipython3",
      "version": "3.7.9"
    },
    "colab": {
      "name": "Happy Customers.ipynb",
      "provenance": []
    }
  },
  "cells": [
    {
      "cell_type": "markdown",
      "metadata": {
        "id": "dsV6eO_l0MLK"
      },
      "source": [
        "# Import"
      ]
    },
    {
      "cell_type": "code",
      "metadata": {
        "id": "TYOh_WaF0MLL"
      },
      "source": [
        "# Our building tools\n",
        "from sklearn.model_selection import train_test_split, KFold, cross_val_score, GridSearchCV\n",
        "from sklearn.neighbors import KNeighborsClassifier, KNeighborsRegressor\n",
        "from sklearn.linear_model import LogisticRegression\n",
        "from sklearn.svm import LinearSVC\n",
        "from sklearn.ensemble import RandomForestClassifier\n",
        "from sklearn.metrics import accuracy_score, classification_report\n",
        "from sklearn.preprocessing import StandardScaler, MinMaxScaler\n",
        "from sklearn.tree import DecisionTreeClassifier\n",
        "\n",
        "# Preparing data\n",
        "import pandas as pd\n",
        "import numpy as np\n",
        "\n",
        "# Analyzing data\n",
        "import matplotlib.pyplot as plt\n",
        "import seaborn as sns\n",
        "\n",
        "import warnings\n",
        "warnings.filterwarnings('ignore')"
      ],
      "execution_count": null,
      "outputs": []
    },
    {
      "cell_type": "markdown",
      "metadata": {
        "id": "yT_CvdVx0MLR"
      },
      "source": [
        "# Data"
      ]
    },
    {
      "cell_type": "code",
      "metadata": {
        "id": "E2gH2avR0MLS",
        "outputId": "9bcc8eee-8bce-4cbb-cf8c-4f2cc20462cb"
      },
      "source": [
        "df = pd.read_csv('ACME-HappinessSurvey2020.csv')\n",
        "df.head()"
      ],
      "execution_count": null,
      "outputs": [
        {
          "output_type": "execute_result",
          "data": {
            "text/html": [
              "<div>\n",
              "<style scoped>\n",
              "    .dataframe tbody tr th:only-of-type {\n",
              "        vertical-align: middle;\n",
              "    }\n",
              "\n",
              "    .dataframe tbody tr th {\n",
              "        vertical-align: top;\n",
              "    }\n",
              "\n",
              "    .dataframe thead th {\n",
              "        text-align: right;\n",
              "    }\n",
              "</style>\n",
              "<table border=\"1\" class=\"dataframe\">\n",
              "  <thead>\n",
              "    <tr style=\"text-align: right;\">\n",
              "      <th></th>\n",
              "      <th>Y</th>\n",
              "      <th>X1</th>\n",
              "      <th>X2</th>\n",
              "      <th>X3</th>\n",
              "      <th>X4</th>\n",
              "      <th>X5</th>\n",
              "      <th>X6</th>\n",
              "    </tr>\n",
              "  </thead>\n",
              "  <tbody>\n",
              "    <tr>\n",
              "      <th>0</th>\n",
              "      <td>0</td>\n",
              "      <td>3</td>\n",
              "      <td>3</td>\n",
              "      <td>3</td>\n",
              "      <td>4</td>\n",
              "      <td>2</td>\n",
              "      <td>4</td>\n",
              "    </tr>\n",
              "    <tr>\n",
              "      <th>1</th>\n",
              "      <td>0</td>\n",
              "      <td>3</td>\n",
              "      <td>2</td>\n",
              "      <td>3</td>\n",
              "      <td>5</td>\n",
              "      <td>4</td>\n",
              "      <td>3</td>\n",
              "    </tr>\n",
              "    <tr>\n",
              "      <th>2</th>\n",
              "      <td>1</td>\n",
              "      <td>5</td>\n",
              "      <td>3</td>\n",
              "      <td>3</td>\n",
              "      <td>3</td>\n",
              "      <td>3</td>\n",
              "      <td>5</td>\n",
              "    </tr>\n",
              "    <tr>\n",
              "      <th>3</th>\n",
              "      <td>0</td>\n",
              "      <td>5</td>\n",
              "      <td>4</td>\n",
              "      <td>3</td>\n",
              "      <td>3</td>\n",
              "      <td>3</td>\n",
              "      <td>5</td>\n",
              "    </tr>\n",
              "    <tr>\n",
              "      <th>4</th>\n",
              "      <td>0</td>\n",
              "      <td>5</td>\n",
              "      <td>4</td>\n",
              "      <td>3</td>\n",
              "      <td>3</td>\n",
              "      <td>3</td>\n",
              "      <td>5</td>\n",
              "    </tr>\n",
              "  </tbody>\n",
              "</table>\n",
              "</div>"
            ],
            "text/plain": [
              "   Y  X1  X2  X3  X4  X5  X6\n",
              "0  0   3   3   3   4   2   4\n",
              "1  0   3   2   3   5   4   3\n",
              "2  1   5   3   3   3   3   5\n",
              "3  0   5   4   3   3   3   5\n",
              "4  0   5   4   3   3   3   5"
            ]
          },
          "metadata": {
            "tags": []
          },
          "execution_count": 298
        }
      ]
    },
    {
      "cell_type": "code",
      "metadata": {
        "id": "tBXo-Zty0MLY",
        "outputId": "91430ec0-54ea-4784-e75e-36890dc8a44b"
      },
      "source": [
        "df.describe()"
      ],
      "execution_count": null,
      "outputs": [
        {
          "output_type": "execute_result",
          "data": {
            "text/html": [
              "<div>\n",
              "<style scoped>\n",
              "    .dataframe tbody tr th:only-of-type {\n",
              "        vertical-align: middle;\n",
              "    }\n",
              "\n",
              "    .dataframe tbody tr th {\n",
              "        vertical-align: top;\n",
              "    }\n",
              "\n",
              "    .dataframe thead th {\n",
              "        text-align: right;\n",
              "    }\n",
              "</style>\n",
              "<table border=\"1\" class=\"dataframe\">\n",
              "  <thead>\n",
              "    <tr style=\"text-align: right;\">\n",
              "      <th></th>\n",
              "      <th>Y</th>\n",
              "      <th>X1</th>\n",
              "      <th>X2</th>\n",
              "      <th>X3</th>\n",
              "      <th>X4</th>\n",
              "      <th>X5</th>\n",
              "      <th>X6</th>\n",
              "    </tr>\n",
              "  </thead>\n",
              "  <tbody>\n",
              "    <tr>\n",
              "      <th>count</th>\n",
              "      <td>126.000000</td>\n",
              "      <td>126.000000</td>\n",
              "      <td>126.000000</td>\n",
              "      <td>126.000000</td>\n",
              "      <td>126.000000</td>\n",
              "      <td>126.000000</td>\n",
              "      <td>126.000000</td>\n",
              "    </tr>\n",
              "    <tr>\n",
              "      <th>mean</th>\n",
              "      <td>0.547619</td>\n",
              "      <td>4.333333</td>\n",
              "      <td>2.531746</td>\n",
              "      <td>3.309524</td>\n",
              "      <td>3.746032</td>\n",
              "      <td>3.650794</td>\n",
              "      <td>4.253968</td>\n",
              "    </tr>\n",
              "    <tr>\n",
              "      <th>std</th>\n",
              "      <td>0.499714</td>\n",
              "      <td>0.800000</td>\n",
              "      <td>1.114892</td>\n",
              "      <td>1.023440</td>\n",
              "      <td>0.875776</td>\n",
              "      <td>1.147641</td>\n",
              "      <td>0.809311</td>\n",
              "    </tr>\n",
              "    <tr>\n",
              "      <th>min</th>\n",
              "      <td>0.000000</td>\n",
              "      <td>1.000000</td>\n",
              "      <td>1.000000</td>\n",
              "      <td>1.000000</td>\n",
              "      <td>1.000000</td>\n",
              "      <td>1.000000</td>\n",
              "      <td>1.000000</td>\n",
              "    </tr>\n",
              "    <tr>\n",
              "      <th>25%</th>\n",
              "      <td>0.000000</td>\n",
              "      <td>4.000000</td>\n",
              "      <td>2.000000</td>\n",
              "      <td>3.000000</td>\n",
              "      <td>3.000000</td>\n",
              "      <td>3.000000</td>\n",
              "      <td>4.000000</td>\n",
              "    </tr>\n",
              "    <tr>\n",
              "      <th>50%</th>\n",
              "      <td>1.000000</td>\n",
              "      <td>5.000000</td>\n",
              "      <td>3.000000</td>\n",
              "      <td>3.000000</td>\n",
              "      <td>4.000000</td>\n",
              "      <td>4.000000</td>\n",
              "      <td>4.000000</td>\n",
              "    </tr>\n",
              "    <tr>\n",
              "      <th>75%</th>\n",
              "      <td>1.000000</td>\n",
              "      <td>5.000000</td>\n",
              "      <td>3.000000</td>\n",
              "      <td>4.000000</td>\n",
              "      <td>4.000000</td>\n",
              "      <td>4.000000</td>\n",
              "      <td>5.000000</td>\n",
              "    </tr>\n",
              "    <tr>\n",
              "      <th>max</th>\n",
              "      <td>1.000000</td>\n",
              "      <td>5.000000</td>\n",
              "      <td>5.000000</td>\n",
              "      <td>5.000000</td>\n",
              "      <td>5.000000</td>\n",
              "      <td>5.000000</td>\n",
              "      <td>5.000000</td>\n",
              "    </tr>\n",
              "  </tbody>\n",
              "</table>\n",
              "</div>"
            ],
            "text/plain": [
              "                Y          X1          X2          X3          X4          X5  \\\n",
              "count  126.000000  126.000000  126.000000  126.000000  126.000000  126.000000   \n",
              "mean     0.547619    4.333333    2.531746    3.309524    3.746032    3.650794   \n",
              "std      0.499714    0.800000    1.114892    1.023440    0.875776    1.147641   \n",
              "min      0.000000    1.000000    1.000000    1.000000    1.000000    1.000000   \n",
              "25%      0.000000    4.000000    2.000000    3.000000    3.000000    3.000000   \n",
              "50%      1.000000    5.000000    3.000000    3.000000    4.000000    4.000000   \n",
              "75%      1.000000    5.000000    3.000000    4.000000    4.000000    4.000000   \n",
              "max      1.000000    5.000000    5.000000    5.000000    5.000000    5.000000   \n",
              "\n",
              "               X6  \n",
              "count  126.000000  \n",
              "mean     4.253968  \n",
              "std      0.809311  \n",
              "min      1.000000  \n",
              "25%      4.000000  \n",
              "50%      4.000000  \n",
              "75%      5.000000  \n",
              "max      5.000000  "
            ]
          },
          "metadata": {
            "tags": []
          },
          "execution_count": 299
        }
      ]
    },
    {
      "cell_type": "code",
      "metadata": {
        "id": "aVSerygH0MLc",
        "outputId": "cc3a484d-b0aa-4c51-8a10-00e0f85f16e2"
      },
      "source": [
        "corr = df.corr()\n",
        "plt.subplots(figsize=(8, 6))\n",
        "\n",
        "sns.heatmap(corr, cmap='viridis', annot=True, fmt='.1g')\n",
        "plt.show()"
      ],
      "execution_count": null,
      "outputs": [
        {
          "output_type": "display_data",
          "data": {
            "image/png": "[encoded data removed]",
            "text/plain": [
              "<Figure size 576x432 with 2 Axes>"
            ]
          },
          "metadata": {
            "tags": [],
            "needs_background": "light"
          }
        }
      ]
    },
    {
      "cell_type": "markdown",
      "metadata": {
        "id": "lqH35u_T0MLf"
      },
      "source": [
        "Re-check the survey data:\n",
        "\n",
        "    Y = target attribute (Y) with values indicating 0 (unhappy) and 1 (happy) customers\n",
        "    X1 = my order was delivered on time\n",
        "    X2 = contents of my order was as I expected\n",
        "    X3 = I ordered everything I wanted to order\n",
        "    X4 = I paid a good price for my order\n",
        "    X5 = I am satisfied with my courier\n",
        "    X6 = the app makes ordering easy for me\n",
        "\n",
        "In the heatmap we can see that $X2$ (order contents) and $X4$ (the price) features are less reliable than others. When it comes to feature selecting, in many cases we will have many features and we should use feature selection algorithms. But since our data is a small one, we can remove the less related data safely to make a better prediction.\n",
        "\n",
        "This shows us that these questions can be removed from the survey so we can stick up with the more important ones."
      ]
    },
    {
      "cell_type": "markdown",
      "metadata": {
        "id": "jucKvWkH0MLg"
      },
      "source": [
        "### Filtering Data"
      ]
    },
    {
      "cell_type": "code",
      "metadata": {
        "id": "FgQClk6X0MLg"
      },
      "source": [
        "df = df.drop(columns=['X2', 'X4'])"
      ],
      "execution_count": null,
      "outputs": []
    },
    {
      "cell_type": "code",
      "metadata": {
        "id": "IWNeKgfa0MLj"
      },
      "source": [
        "X = df.drop(columns='Y')\n",
        "y = df.Y"
      ],
      "execution_count": null,
      "outputs": []
    },
    {
      "cell_type": "markdown",
      "metadata": {
        "id": "Y50yeKau0MLl"
      },
      "source": [
        "### Data Scaling"
      ]
    },
    {
      "cell_type": "code",
      "metadata": {
        "id": "5YpCXMr20MLm"
      },
      "source": [
        "scaler = MinMaxScaler()\n",
        "X = scaler.fit_transform(X)"
      ],
      "execution_count": null,
      "outputs": []
    },
    {
      "cell_type": "markdown",
      "metadata": {
        "id": "l8aCTZ760MLo"
      },
      "source": [
        "### Train Test Split "
      ]
    },
    {
      "cell_type": "code",
      "metadata": {
        "id": "5p7GBZdM0MLp"
      },
      "source": [
        "X_train, X_test, y_train, y_test = train_test_split(X, y, random_state=42)"
      ],
      "execution_count": null,
      "outputs": []
    },
    {
      "cell_type": "markdown",
      "metadata": {
        "id": "ZXRIVQWa0MLr"
      },
      "source": [
        "# Comparison Between Models\n",
        "We will see which model is likely to have a better performance"
      ]
    },
    {
      "cell_type": "markdown",
      "metadata": {
        "id": "LYMtxtu70MLr"
      },
      "source": [
        "## Cross-Validation "
      ]
    },
    {
      "cell_type": "code",
      "metadata": {
        "id": "tK2KTrh70MLr",
        "outputId": "1c4ca9b6-c641-4608-f828-9cb999bc7674"
      },
      "source": [
        "score = cross_val_score(KNeighborsClassifier(), X_train, y_train, cv=10)\n",
        "print(\"KNeighborsClassifier: \", score.mean())\n",
        "\n",
        "score = cross_val_score(LogisticRegression(), X_train, y_train, cv=10)\n",
        "print(\"LogisticRegression: \", score.mean())\n",
        "\n",
        "score = cross_val_score(LinearSVC(), X_train, y_train, cv=10)\n",
        "print(\"SupportVectorClassifier: \", score.mean())\n",
        "\n",
        "score = cross_val_score(RandomForestClassifier(), X_train, y_train, cv=10)\n",
        "print(\"RandomForestClassifier: \", score.mean())"
      ],
      "execution_count": null,
      "outputs": [
        {
          "output_type": "stream",
          "text": [
            "KNeighborsClassifier:  0.6055555555555555\n",
            "LogisticRegression:  0.6055555555555556\n",
            "SupportVectorClassifier:  0.6611111111111112\n",
            "RandomForestClassifier:  0.6277777777777779\n"
          ],
          "name": "stdout"
        }
      ]
    },
    {
      "cell_type": "markdown",
      "metadata": {
        "id": "FeDM9j8X0MLu"
      },
      "source": [
        "Looks like our best choices here are SVM and Random Forest. But still, it's just an estimation."
      ]
    },
    {
      "cell_type": "markdown",
      "metadata": {
        "id": "bvEh3T0Y0MLu"
      },
      "source": [
        "## K-NeighborClassifying"
      ]
    },
    {
      "cell_type": "code",
      "metadata": {
        "id": "NgWOYlVn0MLu",
        "outputId": "724f0bbe-bdad-4fd7-90df-f2b71b002f67"
      },
      "source": [
        "n = 1\n",
        "knc = KNeighborsClassifier(n_neighbors=n).fit(X_train, y_train)\n",
        "\n",
        "print(f\"neighbors: {n}\")\n",
        "print(f\"train score: {knc.score(X_train, y_train)}, test score: {knc.score(X_test, y_test)}\")\n",
        "print()"
      ],
      "execution_count": null,
      "outputs": [
        {
          "output_type": "stream",
          "text": [
            "neighbors: 1\n",
            "train score: 0.7340425531914894, test score: 0.5\n",
            "\n"
          ],
          "name": "stdout"
        }
      ]
    },
    {
      "cell_type": "markdown",
      "metadata": {
        "id": "oNYB5FFG0MLx"
      },
      "source": [
        "## Logistic Regression"
      ]
    },
    {
      "cell_type": "code",
      "metadata": {
        "id": "_RTyTnpg0MLx",
        "outputId": "36ba7af7-4a9d-4118-9511-eb658dc9314b"
      },
      "source": [
        "C = 100\n",
        "logreg = LogisticRegression(C=C).fit(X_train, y_train)\n",
        "\n",
        "print(f\"C: {C}\")\n",
        "print(f\"train score: {logreg.score(X_train, y_train)}, test score: {logreg.score(X_test, y_test)}\")\n",
        "print()"
      ],
      "execution_count": null,
      "outputs": [
        {
          "output_type": "stream",
          "text": [
            "C: 100\n",
            "train score: 0.6702127659574468, test score: 0.46875\n",
            "\n"
          ],
          "name": "stdout"
        }
      ]
    },
    {
      "cell_type": "markdown",
      "metadata": {
        "id": "XbrLwLkN0MLz"
      },
      "source": [
        "## Support Vector Classifier (SVC)"
      ]
    },
    {
      "cell_type": "code",
      "metadata": {
        "id": "BuTXVgII0ML0",
        "outputId": "752890ed-5f6a-45b6-80b6-0eee57c0dd28"
      },
      "source": [
        "C = 1\n",
        "svc = LinearSVC(C=C).fit(X_train, y_train)\n",
        "\n",
        "print(f\"C: {C}\")\n",
        "print(f\"train score: {svc.score(X_train, y_train)}, test score: {svc.score(X_test, y_test)}\")\n",
        "print()"
      ],
      "execution_count": null,
      "outputs": [
        {
          "output_type": "stream",
          "text": [
            "C: 1\n",
            "train score: 0.7127659574468085, test score: 0.46875\n",
            "\n"
          ],
          "name": "stdout"
        }
      ]
    },
    {
      "cell_type": "markdown",
      "metadata": {
        "id": "y9Cg76420ML2"
      },
      "source": [
        "## Random Forest"
      ]
    },
    {
      "cell_type": "code",
      "metadata": {
        "id": "H65E5FPQ0ML3",
        "outputId": "53eeebcd-9065-487f-d110-606a1bd56ef2"
      },
      "source": [
        "n = 10\n",
        "forest = RandomForestClassifier(n_estimators=n).fit(X_train, y_train)\n",
        "\n",
        "print(f\"estimators: {n}\")\n",
        "print(f\"train score: {forest.score(X_train, y_train)}, test score: {forest.score(X_test, y_test)}\")\n",
        "print()"
      ],
      "execution_count": null,
      "outputs": [
        {
          "output_type": "stream",
          "text": [
            "estimators: 10\n",
            "train score: 0.8191489361702128, test score: 0.6875\n",
            "\n"
          ],
          "name": "stdout"
        }
      ]
    },
    {
      "cell_type": "markdown",
      "metadata": {
        "id": "EqBxKM4G0ML6"
      },
      "source": [
        "# Parameter Improvement for Random Forest\n",
        "Lets see if we can find better parameters"
      ]
    },
    {
      "cell_type": "code",
      "metadata": {
        "id": "oUe0Nzlz0ML7"
      },
      "source": [
        "def display(results):\n",
        "    print(f'Best parameters are: {results.best_params_}')\n",
        "    print(\"\\n\")\n",
        "    mean_score = results.cv_results_['mean_test_score']\n",
        "    std_score = results.cv_results_['std_test_score']\n",
        "    params = results.cv_results_['params']\n",
        "    for mean,std,params in zip(mean_score,std_score,params):\n",
        "        print(f'{round(mean,3)} + or -{round(std,3)} for the {params}')"
      ],
      "execution_count": null,
      "outputs": []
    },
    {
      "cell_type": "code",
      "metadata": {
        "id": "cB_hJsTp0ML-",
        "outputId": "3a38d1ca-89f9-411e-93aa-7af023308701"
      },
      "source": [
        "parameters = {\n",
        "    \"n_estimators\" : [5, 10, 50, 100, 250],\n",
        "    \"max_depth\" : [2, 4, 8, 16, 32, None]\n",
        "}\n",
        "\n",
        "cv = GridSearchCV(RandomForestClassifier(), parameters, cv=5)\n",
        "cv.fit(X_train, y_train)"
      ],
      "execution_count": null,
      "outputs": [
        {
          "output_type": "execute_result",
          "data": {
            "text/plain": [
              "GridSearchCV(cv=5, estimator=RandomForestClassifier(),\n",
              "             param_grid={'max_depth': [2, 4, 8, 16, 32, None],\n",
              "                         'n_estimators': [5, 10, 50, 100, 250]})"
            ]
          },
          "metadata": {
            "tags": []
          },
          "execution_count": 316
        }
      ]
    },
    {
      "cell_type": "code",
      "metadata": {
        "id": "PyfgCj_40MMB",
        "outputId": "9d61f2e7-7ccc-485d-8353-76a6c1e7f605"
      },
      "source": [
        "display(cv)"
      ],
      "execution_count": null,
      "outputs": [
        {
          "output_type": "stream",
          "text": [
            "Best parameters are: {'max_depth': 32, 'n_estimators': 5}\n",
            "\n",
            "\n",
            "0.564 + or -0.074 for the {'max_depth': 2, 'n_estimators': 5}\n",
            "0.64 + or -0.119 for the {'max_depth': 2, 'n_estimators': 10}\n",
            "0.628 + or -0.08 for the {'max_depth': 2, 'n_estimators': 50}\n",
            "0.617 + or -0.077 for the {'max_depth': 2, 'n_estimators': 100}\n",
            "0.617 + or -0.077 for the {'max_depth': 2, 'n_estimators': 250}\n",
            "0.553 + or -0.053 for the {'max_depth': 4, 'n_estimators': 5}\n",
            "0.617 + or -0.077 for the {'max_depth': 4, 'n_estimators': 10}\n",
            "0.617 + or -0.061 for the {'max_depth': 4, 'n_estimators': 50}\n",
            "0.67 + or -0.044 for the {'max_depth': 4, 'n_estimators': 100}\n",
            "0.659 + or -0.046 for the {'max_depth': 4, 'n_estimators': 250}\n",
            "0.626 + or -0.095 for the {'max_depth': 8, 'n_estimators': 5}\n",
            "0.574 + or -0.103 for the {'max_depth': 8, 'n_estimators': 10}\n",
            "0.617 + or -0.051 for the {'max_depth': 8, 'n_estimators': 50}\n",
            "0.649 + or -0.045 for the {'max_depth': 8, 'n_estimators': 100}\n",
            "0.66 + or -0.071 for the {'max_depth': 8, 'n_estimators': 250}\n",
            "0.638 + or -0.078 for the {'max_depth': 16, 'n_estimators': 5}\n",
            "0.596 + or -0.062 for the {'max_depth': 16, 'n_estimators': 10}\n",
            "0.681 + or -0.007 for the {'max_depth': 16, 'n_estimators': 50}\n",
            "0.67 + or -0.051 for the {'max_depth': 16, 'n_estimators': 100}\n",
            "0.627 + or -0.082 for the {'max_depth': 16, 'n_estimators': 250}\n",
            "0.681 + or -0.073 for the {'max_depth': 32, 'n_estimators': 5}\n",
            "0.659 + or -0.046 for the {'max_depth': 32, 'n_estimators': 10}\n",
            "0.617 + or -0.061 for the {'max_depth': 32, 'n_estimators': 50}\n",
            "0.627 + or -0.058 for the {'max_depth': 32, 'n_estimators': 100}\n",
            "0.681 + or -0.034 for the {'max_depth': 32, 'n_estimators': 250}\n",
            "0.563 + or -0.087 for the {'max_depth': None, 'n_estimators': 5}\n",
            "0.638 + or -0.024 for the {'max_depth': None, 'n_estimators': 10}\n",
            "0.596 + or -0.095 for the {'max_depth': None, 'n_estimators': 50}\n",
            "0.67 + or -0.051 for the {'max_depth': None, 'n_estimators': 100}\n",
            "0.639 + or -0.059 for the {'max_depth': None, 'n_estimators': 250}\n"
          ],
          "name": "stdout"
        }
      ]
    },
    {
      "cell_type": "markdown",
      "metadata": {
        "id": "QYN5we1D0MME"
      },
      "source": [
        "#### Lets pick our parameters and start training the final model"
      ]
    },
    {
      "cell_type": "code",
      "metadata": {
        "id": "qoXR5vcE0MME",
        "outputId": "91dd8190-f236-40e4-be1e-bb86d3f2b847"
      },
      "source": [
        "n = 5\n",
        "depth = 32\n",
        "forest = RandomForestClassifier(n_estimators=n, max_depth=depth).fit(X_train, y_train)\n",
        "\n",
        "print(f\"estimators: {n}, depth: {depth}\")\n",
        "print(f\"train score: {forest.score(X_train, y_train)}, test score: {forest.score(X_test, y_test)}\")\n",
        "print()"
      ],
      "execution_count": null,
      "outputs": [
        {
          "output_type": "stream",
          "text": [
            "estimators: 5, depth: 32\n",
            "train score: 0.8191489361702128, test score: 0.75\n",
            "\n"
          ],
          "name": "stdout"
        }
      ]
    },
    {
      "cell_type": "markdown",
      "metadata": {
        "id": "T2M_fRLw0MMH"
      },
      "source": [
        "# Conclusion\n",
        "When we compare the classifiers we used, we can see that Random Forest is the strongest model that we can build. Normally using such a complex model would be overkill for our small dataset, but since we can get more accurate results (and have a categorical data), we will use Random Forest which can reach up to a training accuracy of **%80**  and a test accuracy of **%75**."
      ]
    },
    {
      "cell_type": "code",
      "metadata": {
        "id": "1rzvQZBz0MMH"
      },
      "source": [
        ""
      ],
      "execution_count": null,
      "outputs": []
    }
  ]
}